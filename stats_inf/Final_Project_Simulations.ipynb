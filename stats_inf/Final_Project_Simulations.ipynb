{
 "cells": [
  {
   "cell_type": "code",
   "execution_count": 38,
   "id": "05028342",
   "metadata": {
    "vscode": {
     "languageId": "r"
    }
   },
   "outputs": [],
   "source": [
    "y_m <- 8 # minimum data value\n",
    "alpha <- 0.5 # shape parameter between 0 and 1\n",
    "n <- 20 # sample size\n",
    "\n",
    "qg025 <- qgamma(0.025,n, n)\n",
    "qg975 <- qgamma(0.975,n , n )\n",
    "\n",
    "# qt025 <- qt(0.025, n-1)\n",
    "qt975 <- qt(0.975, n-1)"
   ]
  },
  {
   "attachments": {},
   "cell_type": "markdown",
   "id": "bf044f40",
   "metadata": {},
   "source": [
    "# Run experiments"
   ]
  },
  {
   "cell_type": "code",
   "execution_count": 39,
   "id": "3f00df99",
   "metadata": {
    "vscode": {
     "languageId": "r"
    }
   },
   "outputs": [],
   "source": [
    "T = 10000 # number of trials to run\n",
    "\n",
    "alpha_hatMLE <- numeric(T)\n",
    "alpha_hatMOM <- numeric(T)\n",
    "exact.lower <- numeric(T) \n",
    "exact.upper <- numeric(T)\n",
    "CLT.lower <- numeric(T)\n",
    "CLT.upper <- numeric(T)\n",
    "for(k in 1:T){\n",
    "    X <- rexp(n, rate = alpha) # Exp(alpha) random variables\n",
    "    Y <- y_m * exp(X) # Pareto(y_m, alpha) random variables\n",
    "\n",
    "    alpha_hatMLE[k] <- 1/ mean(log(Y / y_m)) # MLE formula\n",
    "    alpha_hatMOM[k] <- mean(Y)/(mean(Y)+y_m)\n",
    "\n",
    "    exact.lower[k] <- alpha_hatMLE[k] * qg025\n",
    "    exact.upper[k] <- alpha_hatMLE[k] * qg975 # based on exact MLE CI (part d)\n",
    "\n",
    "    CLT.lower[k] <- 1/(1/alpha_hatMLE[k] + qt975 * sd(X) / sqrt(n))# based on t distribution CI (part e)\n",
    "    CLT.upper[k] <- 1/(1/alpha_hatMLE[k] - qt975 * sd(X) / sqrt(n))# based on t distribution CI (part e)\n",
    "\n",
    "    \n",
    "}\n"
   ]
  },
  {
   "cell_type": "code",
   "execution_count": 40,
   "id": "24f16074",
   "metadata": {
    "vscode": {
     "languageId": "r"
    }
   },
   "outputs": [],
   "source": [
    "rmse_MLE <- sqrt(mean((alpha_hatMLE - alpha)^2))\n",
    "rmse_MOM <- sqrt(mean((alpha_hatMOM - alpha)^2))"
   ]
  },
  {
   "cell_type": "code",
   "execution_count": 41,
   "id": "5b8cb460",
   "metadata": {
    "vscode": {
     "languageId": "r"
    }
   },
   "outputs": [],
   "source": [
    "coverage_exact <- mean((alpha >= exact.lower) & (alpha <= exact.upper)) # compute for each CI\n",
    "coverage_CLT <- mean((alpha >= CLT.lower) & (alpha <= CLT.upper)) # compute for each CI\n",
    "# coverage <- mean((alpha >= exact.lower) & (alpha <= exact.upper)) # compute for each CI"
   ]
  },
  {
   "cell_type": "code",
   "execution_count": 43,
   "id": "984dc72c",
   "metadata": {
    "vscode": {
     "languageId": "r"
    }
   },
   "outputs": [
    {
     "data": {
      "text/html": [
       "0.949"
      ],
      "text/latex": [
       "0.949"
      ],
      "text/markdown": [
       "0.949"
      ],
      "text/plain": [
       "[1] 0.949"
      ]
     },
     "metadata": {},
     "output_type": "display_data"
    }
   ],
   "source": [
    "coverage_exact"
   ]
  },
  {
   "cell_type": "code",
   "execution_count": 42,
   "id": "6fec476e",
   "metadata": {
    "vscode": {
     "languageId": "r"
    }
   },
   "outputs": [
    {
     "data": {
      "text/html": [
       "0.9175"
      ],
      "text/latex": [
       "0.9175"
      ],
      "text/markdown": [
       "0.9175"
      ],
      "text/plain": [
       "[1] 0.9175"
      ]
     },
     "metadata": {},
     "output_type": "display_data"
    }
   ],
   "source": [
    "coverage_CLT"
   ]
  },
  {
   "cell_type": "code",
   "execution_count": null,
   "id": "c8b43cd9",
   "metadata": {
    "vscode": {
     "languageId": "r"
    }
   },
   "outputs": [],
   "source": []
  },
  {
   "cell_type": "code",
   "execution_count": null,
   "id": "1bc02885",
   "metadata": {
    "vscode": {
     "languageId": "r"
    }
   },
   "outputs": [],
   "source": [
    "\n",
    "\n",
    "# set.seed(123)\n",
    "# B <- 1e4\n",
    "# boot_t_alphaMLE <- numeric(B)\n",
    "# boot_t_alphaMOM <- numeric(B)\n",
    "\n",
    "# for(b in 1:B){\n",
    "#     Y_boot <- sample(Y, replace=TRUE)\n",
    "\n",
    "#     boot_alphaMLE <- 1/ mean(log(Y_boot / y_m))\n",
    "#     boot_alphaMOM <- mean(Y_boot)/(mean(Y_boot)+y_m)\n",
    "\n",
    "#     boot_t_alphaMLE[b] <- (boot_alphaMLE - alpha_hatMLE[k])\n",
    "\n",
    "\n",
    "# }\n",
    "\n",
    "\n",
    "# alpha_hatMLE[k] - quantile(bootMLE,c(0.975, 0.025))\n",
    "\n",
    "# mean(diff) - quantile(boot_t,c(0.975, 0.025)) * sd(diff) /sqrt(n)\n",
    "\n",
    "\n",
    "\n",
    "# bootMLE.lower[k] <- # based on the bootstrap percentile method applied to the MLE\n",
    "# bootMLE.upper[k] <- # based on the bootstrap percentile method applied to the MLE\n",
    "# bootMOM.lower[k] <- # based on the bootstrap percentile method applied to the MOM estimate\n",
    "# bootMOM.upper[k] <- # based on the bootstrap percentile method applied to the MOM estimatealpha_hatMLE"
   ]
  }
 ],
 "metadata": {
  "kernelspec": {
   "display_name": "R",
   "language": "R",
   "name": "ir"
  },
  "language_info": {
   "codemirror_mode": "r",
   "file_extension": ".r",
   "mimetype": "text/x-r-source",
   "name": "R",
   "pygments_lexer": "r",
   "version": "4.2.1"
  }
 },
 "nbformat": 4,
 "nbformat_minor": 5
}
