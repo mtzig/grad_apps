{
 "cells": [
  {
   "cell_type": "code",
   "execution_count": 122,
   "id": "05028342",
   "metadata": {
    "vscode": {
     "languageId": "r"
    }
   },
   "outputs": [],
   "source": [
    "y_m <- 8 # minimum data value\n",
    "alpha <- 3 # shape parameter greater than 1\n",
    "n <- 127 # sample size NOTE: 127 is size of dataset\n",
    "\n",
    "qg025 <- qgamma(0.025,n, n)\n",
    "qg975 <- qgamma(0.975,n , n )\n",
    "\n",
    "# qt025 <- qt(0.025, n-1)\n",
    "qt975 <- qt(0.975, n-1)"
   ]
  },
  {
   "attachments": {},
   "cell_type": "markdown",
   "id": "bf044f40",
   "metadata": {},
   "source": [
    "# Run experiments"
   ]
  },
  {
   "cell_type": "code",
   "execution_count": 123,
   "id": "3f00df99",
   "metadata": {
    "vscode": {
     "languageId": "r"
    }
   },
   "outputs": [],
   "source": [
    "set.seed(123)\n",
    "\n",
    "\n",
    "\n",
    "\n",
    "T = 1000 # number of trials to run\n",
    "\n",
    "\n",
    "alpha_hatMLE <- numeric(T)\n",
    "alpha_hatMOM <- numeric(T)\n",
    "\n",
    "exact.lower <- numeric(T) \n",
    "exact.upper <- numeric(T)\n",
    "\n",
    "CLT.lower <- numeric(T)\n",
    "CLT.upper <- numeric(T)\n",
    "\n",
    "bootMLE.lower <- numeric(T)\n",
    "bootMLE.upper <- numeric(T)\n",
    "\n",
    "bootMOM.lower <- numeric(T)\n",
    "bootMOM.upper <- numeric(T)\n",
    "\n",
    "B <- 1000\n",
    "bootMLE <- numeric(B)\n",
    "bootMOM <- numeric(B)\n",
    "\n",
    "\n",
    "for(k in 1:T){\n",
    "\n",
    "\n",
    "    X <- rexp(n, rate = alpha) # Exp(alpha) random variables\n",
    "    Y <- y_m * exp(X) # Pareto(y_m, alpha) random variables\n",
    "\n",
    "    alpha_hatMLE[k] <- 1/ mean(log(Y / y_m)) # MLE formula\n",
    "    alpha_hatMOM[k] <- mean(Y)/(mean(Y) - y_m)\n",
    "\n",
    "    exact.lower[k] <- alpha_hatMLE[k] * qg025\n",
    "    exact.upper[k] <- alpha_hatMLE[k] * qg975 # based on exact MLE CI (part d)\n",
    "\n",
    "    CLT.lower[k] <- 1/(1/alpha_hatMLE[k] + qt975 * sd(X) / sqrt(n))# based on t distribution CI (part e)\n",
    "    CLT.upper[k] <- 1/(1/alpha_hatMLE[k] - qt975 * sd(X) / sqrt(n))# based on t distribution CI (part e)\n",
    "\n",
    "\n",
    "\n",
    "    for(b in 1:B){\n",
    "        Y_boot <- sample(Y, replace=TRUE)\n",
    "\n",
    "        bootMLE[b] <- 1/ mean(log(Y_boot / y_m))\n",
    "        bootMOM[b] <- mean(Y_boot)/(mean(Y_boot) - y_m)\n",
    "\n",
    "    }\n",
    "\n",
    "\n",
    "    bootMLE.lower[k] = quantile(bootMLE, 0.025)\n",
    "    bootMLE.upper[k] = quantile(bootMLE, 0.975)\n",
    "\n",
    "    bootMOM.lower[k] = quantile(bootMOM, 0.025)\n",
    "    bootMOM.upper[k] = quantile(bootMOM, 0.975)\n",
    "    \n",
    "}\n",
    "\n",
    "\n"
   ]
  },
  {
   "cell_type": "code",
   "execution_count": 124,
   "id": "6e2ff5d1",
   "metadata": {
    "vscode": {
     "languageId": "r"
    }
   },
   "outputs": [
    {
     "name": "stdout",
     "output_type": "stream",
     "text": [
      "rmse for MLE is 0.271 \n",
      "rmse for MOM is 0.292\n"
     ]
    }
   ],
   "source": [
    "rmse_MLE <- sqrt(mean((alpha_hatMLE - alpha)^2))\n",
    "rmse_MOM <- sqrt(mean((alpha_hatMOM - alpha)^2))\n",
    "\n",
    "writeLines(sprintf('rmse for MLE is %.3f \\nrmse for MOM is %.3f', rmse_MLE, rmse_MOM))"
   ]
  },
  {
   "cell_type": "code",
   "execution_count": 125,
   "id": "dc4b2772",
   "metadata": {
    "vscode": {
     "languageId": "r"
    }
   },
   "outputs": [
    {
     "name": "stdout",
     "output_type": "stream",
     "text": [
      "coverage for ex. is 0.950\n",
      "coverage for CLT is 0.948\n",
      "coverage for MLE is 0.945\n",
      "coverage for MOM is 0.922\n"
     ]
    }
   ],
   "source": [
    "coverage_exact <- mean((alpha >= exact.lower) & (alpha <= exact.upper)) # compute for each CI\n",
    "coverage_CLT <- mean((alpha >= CLT.lower) & (alpha <= CLT.upper)) \n",
    "coverage_MLE <- mean((alpha >= bootMLE.lower) & (alpha <= bootMLE.upper))\n",
    "coverage_MOM <- mean((alpha >= bootMOM.lower) & (alpha <= bootMOM.upper))\n",
    "\n",
    "\n",
    "writeLines(sprintf('coverage for ex. is %.3f\\ncoverage for CLT is %.3f\\ncoverage for MLE is %.3f\\ncoverage for MOM is %.3f', \n",
    "           coverage_exact, coverage_CLT, coverage_MLE, coverage_MOM))"
   ]
  },
  {
   "cell_type": "code",
   "execution_count": 126,
   "id": "83848915",
   "metadata": {
    "vscode": {
     "languageId": "r"
    }
   },
   "outputs": [
    {
     "name": "stdout",
     "output_type": "stream",
     "text": [
      "mean interval width for ex. is 1.052\n",
      "mean interval width for CLT is 1.093\n",
      "mean interval width for MLE is 1.057\n"
     ]
    }
   ],
   "source": [
    "width_exact <- mean(exact.upper - exact.lower)\n",
    "width_CLT <- mean(CLT.upper - CLT.lower)\n",
    "width_MLE <- mean(bootMLE.upper - bootMLE.lower)\n",
    "\n",
    "\n",
    "writeLines(sprintf('mean interval width for ex. is %.3f\\nmean interval width for CLT is %.3f\\nmean interval width for MLE is %.3f', width_exact, width_CLT, width_MLE))"
   ]
  },
  {
   "attachments": {},
   "cell_type": "markdown",
   "id": "167aed5f",
   "metadata": {},
   "source": [
    "# Estimation of earthquake magnitude distribution"
   ]
  },
  {
   "cell_type": "code",
   "execution_count": 127,
   "id": "36724fd6",
   "metadata": {
    "vscode": {
     "languageId": "r"
    }
   },
   "outputs": [],
   "source": [
    "earthquakes <- read.csv('https://people.carleton.edu/~apoppick/ClassData/earthquakes_8greater.csv', header = TRUE)"
   ]
  },
  {
   "cell_type": "code",
   "execution_count": 128,
   "id": "e5240dc1",
   "metadata": {
    "vscode": {
     "languageId": "r"
    }
   },
   "outputs": [
    {
     "data": {
      "text/html": [
       "<table class=\"dataframe\">\n",
       "<caption>A data.frame: 6 × 7</caption>\n",
       "<thead>\n",
       "\t<tr><th></th><th scope=col>Year</th><th scope=col>Mo</th><th scope=col>Dy</th><th scope=col>Location.Name</th><th scope=col>Latitude</th><th scope=col>Longitude</th><th scope=col>Mag</th></tr>\n",
       "\t<tr><th></th><th scope=col>&lt;int&gt;</th><th scope=col>&lt;int&gt;</th><th scope=col>&lt;int&gt;</th><th scope=col>&lt;chr&gt;</th><th scope=col>&lt;dbl&gt;</th><th scope=col>&lt;dbl&gt;</th><th scope=col>&lt;dbl&gt;</th></tr>\n",
       "</thead>\n",
       "<tbody>\n",
       "\t<tr><th scope=row>1</th><td>1900</td><td>10</td><td> 9</td><td>ALASKA:  KODIAK ISLAND            </td><td> 57.09</td><td>-153.48</td><td>8.3</td></tr>\n",
       "\t<tr><th scope=row>2</th><td>1901</td><td> 8</td><td> 9</td><td>JAPAN:  OFF NORTHEAST COAST HONSHU</td><td> 40.60</td><td> 142.30</td><td>8.2</td></tr>\n",
       "\t<tr><th scope=row>3</th><td>1902</td><td> 6</td><td>11</td><td>RUSSIA:  SEA OF OKHOTSK           </td><td> 50.00</td><td> 148.00</td><td>8.0</td></tr>\n",
       "\t<tr><th scope=row>4</th><td>1902</td><td> 9</td><td>22</td><td>GUAM:  AGANA                      </td><td> 18.00</td><td> 146.00</td><td>8.1</td></tr>\n",
       "\t<tr><th scope=row>5</th><td>1903</td><td> 1</td><td> 4</td><td>TONGA ISLANDS                     </td><td>-20.00</td><td>-175.00</td><td>8.0</td></tr>\n",
       "\t<tr><th scope=row>6</th><td>1903</td><td> 2</td><td>27</td><td>INDONESIA:  S OF JAVA             </td><td> -8.00</td><td> 106.00</td><td>8.1</td></tr>\n",
       "</tbody>\n",
       "</table>\n"
      ],
      "text/latex": [
       "A data.frame: 6 × 7\n",
       "\\begin{tabular}{r|lllllll}\n",
       "  & Year & Mo & Dy & Location.Name & Latitude & Longitude & Mag\\\\\n",
       "  & <int> & <int> & <int> & <chr> & <dbl> & <dbl> & <dbl>\\\\\n",
       "\\hline\n",
       "\t1 & 1900 & 10 &  9 & ALASKA:  KODIAK ISLAND             &  57.09 & -153.48 & 8.3\\\\\n",
       "\t2 & 1901 &  8 &  9 & JAPAN:  OFF NORTHEAST COAST HONSHU &  40.60 &  142.30 & 8.2\\\\\n",
       "\t3 & 1902 &  6 & 11 & RUSSIA:  SEA OF OKHOTSK            &  50.00 &  148.00 & 8.0\\\\\n",
       "\t4 & 1902 &  9 & 22 & GUAM:  AGANA                       &  18.00 &  146.00 & 8.1\\\\\n",
       "\t5 & 1903 &  1 &  4 & TONGA ISLANDS                      & -20.00 & -175.00 & 8.0\\\\\n",
       "\t6 & 1903 &  2 & 27 & INDONESIA:  S OF JAVA              &  -8.00 &  106.00 & 8.1\\\\\n",
       "\\end{tabular}\n"
      ],
      "text/markdown": [
       "\n",
       "A data.frame: 6 × 7\n",
       "\n",
       "| <!--/--> | Year &lt;int&gt; | Mo &lt;int&gt; | Dy &lt;int&gt; | Location.Name &lt;chr&gt; | Latitude &lt;dbl&gt; | Longitude &lt;dbl&gt; | Mag &lt;dbl&gt; |\n",
       "|---|---|---|---|---|---|---|---|\n",
       "| 1 | 1900 | 10 |  9 | ALASKA:  KODIAK ISLAND             |  57.09 | -153.48 | 8.3 |\n",
       "| 2 | 1901 |  8 |  9 | JAPAN:  OFF NORTHEAST COAST HONSHU |  40.60 |  142.30 | 8.2 |\n",
       "| 3 | 1902 |  6 | 11 | RUSSIA:  SEA OF OKHOTSK            |  50.00 |  148.00 | 8.0 |\n",
       "| 4 | 1902 |  9 | 22 | GUAM:  AGANA                       |  18.00 |  146.00 | 8.1 |\n",
       "| 5 | 1903 |  1 |  4 | TONGA ISLANDS                      | -20.00 | -175.00 | 8.0 |\n",
       "| 6 | 1903 |  2 | 27 | INDONESIA:  S OF JAVA              |  -8.00 |  106.00 | 8.1 |\n",
       "\n"
      ],
      "text/plain": [
       "  Year Mo Dy Location.Name                      Latitude Longitude Mag\n",
       "1 1900 10  9 ALASKA:  KODIAK ISLAND              57.09   -153.48   8.3\n",
       "2 1901  8  9 JAPAN:  OFF NORTHEAST COAST HONSHU  40.60    142.30   8.2\n",
       "3 1902  6 11 RUSSIA:  SEA OF OKHOTSK             50.00    148.00   8.0\n",
       "4 1902  9 22 GUAM:  AGANA                        18.00    146.00   8.1\n",
       "5 1903  1  4 TONGA ISLANDS                      -20.00   -175.00   8.0\n",
       "6 1903  2 27 INDONESIA:  S OF JAVA               -8.00    106.00   8.1"
      ]
     },
     "metadata": {},
     "output_type": "display_data"
    }
   ],
   "source": [
    "head(earthquakes)"
   ]
  },
  {
   "cell_type": "code",
   "execution_count": 140,
   "id": "f14aa964",
   "metadata": {
    "vscode": {
     "languageId": "r"
    }
   },
   "outputs": [],
   "source": [
    "mag <- earthquakes$Mag\n",
    "mag_min <- 8\n",
    "\n",
    "n_quakes <- nrow(earthquakes)"
   ]
  },
  {
   "cell_type": "code",
   "execution_count": 141,
   "id": "15692e12",
   "metadata": {
    "vscode": {
     "languageId": "r"
    }
   },
   "outputs": [],
   "source": [
    "qge025 <- qgamma(0.025,n_quakes, n_quakes)\n",
    "qge975 <- qgamma(0.975,n_quakes, n_quakes)"
   ]
  },
  {
   "cell_type": "code",
   "execution_count": 151,
   "id": "431ace1b",
   "metadata": {
    "vscode": {
     "languageId": "r"
    }
   },
   "outputs": [
    {
     "name": "stdout",
     "output_type": "stream",
     "text": [
      "MLE point estimate for alpha is 35.906\n",
      "with exact 95%-CI of (29.933,42.414)\n"
     ]
    }
   ],
   "source": [
    "alphaMLE <- 1/ mean(log(mag / mag_min))\n",
    "\n",
    "exact.lower <- alphaMLE * qge025\n",
    "exact.upper <- alphaMLE * qge975 # based on exact MLE CI (part d)\n",
    "\n",
    "writeLines(sprintf('MLE point estimate for alpha is %.3f\\nwith exact 95%%-CI of (%.3f,%.3f)', alphaMLE, exact.lower, exact.upper))"
   ]
  },
  {
   "attachments": {},
   "cell_type": "markdown",
   "id": "47e76587",
   "metadata": {},
   "source": [
    "## Now calculate expected numbr of earthquakes greater than magnitude 9 in given year"
   ]
  },
  {
   "cell_type": "code",
   "execution_count": 160,
   "id": "e6470063",
   "metadata": {
    "vscode": {
     "languageId": "r"
    }
   },
   "outputs": [
    {
     "name": "stdout",
     "output_type": "stream",
     "text": [
      "point estimate for expected earthquakes of mag. greater than 9 is 0.015\n",
      "with exact 95%-CI of (0.007,0.030)\n"
     ]
    }
   ],
   "source": [
    "e_g8 <- n_quakes/(2023 - 1900 + 1) # expected earthquakes of magnitude greater than 8\n",
    "\n",
    "e_g9 <- e_g8 * (8/9)^alphaMLE\n",
    "e_g9.lower <- e_g8 * (8/9)^exact.upper\n",
    "e_g9.upper <- e_g8 * (8/9)^exact.lower\n",
    "\n",
    "writeLines(sprintf('point estimate for expected earthquakes of mag. greater than 9 is %.3f\\nwith exact 95%%-CI of (%.3f,%.3f)', e_g9, e_g9.lower, e_g9.upper))"
   ]
  }
 ],
 "metadata": {
  "kernelspec": {
   "display_name": "R",
   "language": "R",
   "name": "ir"
  },
  "language_info": {
   "codemirror_mode": "r",
   "file_extension": ".r",
   "mimetype": "text/x-r-source",
   "name": "R",
   "pygments_lexer": "r",
   "version": "4.2.1"
  }
 },
 "nbformat": 4,
 "nbformat_minor": 5
}
